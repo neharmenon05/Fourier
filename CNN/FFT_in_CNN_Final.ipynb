{
  "cells": [
    {
      "cell_type": "markdown",
      "metadata": {
        "id": "MrQo6fhPEMXh"
      },
      "source": [
        "# Fast CNN #"
      ]
    },
    {
      "cell_type": "markdown",
      "metadata": {
        "id": "EFL_yxgK4Jpk"
      },
      "source": [
        "### Import Libraries"
      ]
    },
    {
      "cell_type": "code",
      "execution_count": 1,
      "metadata": {
        "id": "stWH-VN2eoUl"
      },
      "outputs": [],
      "source": [
        "import torch\n",
        "import torch.nn as nn\n",
        "import torch.optim as optim\n",
        "import torch.nn.functional as F\n",
        "import torchvision\n",
        "import torchvision.transforms as transforms\n",
        "import torch.fft"
      ]
    },
    {
      "cell_type": "markdown",
      "metadata": {
        "id": "1bl6QTMn4SKo"
      },
      "source": [
        "### Preprocess Dataset"
      ]
    },
    {
      "cell_type": "code",
      "execution_count": 2,
      "metadata": {
        "id": "XmjidzOhnJ3A"
      },
      "outputs": [],
      "source": [
        "transform = transforms.Compose([\n",
        "    transforms.ToTensor(),\n",
        "    transforms.Normalize((0.5,0.5,0.5),(0.5,0.5,0.5))\n",
        "])"
      ]
    },
    {
      "cell_type": "code",
      "execution_count": 3,
      "metadata": {
        "colab": {
          "base_uri": "https://localhost:8080/"
        },
        "id": "WFGrKOjdfxVB",
        "outputId": "c8cc1ee7-b396-4fb1-b31c-dc20f041165b"
      },
      "outputs": [
        {
          "name": "stdout",
          "output_type": "stream",
          "text": [
            "Downloading https://www.cs.toronto.edu/~kriz/cifar-10-python.tar.gz to ./data/cifar-10-python.tar.gz\n"
          ]
        },
        {
          "name": "stderr",
          "output_type": "stream",
          "text": [
            "100%|██████████| 170498071/170498071 [00:02<00:00, 62638887.36it/s]\n"
          ]
        },
        {
          "name": "stdout",
          "output_type": "stream",
          "text": [
            "Extracting ./data/cifar-10-python.tar.gz to ./data\n",
            "Files already downloaded and verified\n"
          ]
        }
      ],
      "source": [
        "trainset = torchvision.datasets.CIFAR10(root='./data', train =True, download=True, transform=transform)\n",
        "trainloader = torch.utils.data.DataLoader(trainset, batch_size=4, shuffle=True, num_workers=2)\n",
        "testset = torchvision.datasets.CIFAR10(root=\"./data\", train =False, download=True, transform=transform)\n",
        "test_loader = torch.utils.data.DataLoader(testset, batch_size=4, shuffle=True, num_workers=2)"
      ]
    },
    {
      "cell_type": "markdown",
      "metadata": {
        "id": "zs7VI6AN4xB0"
      },
      "source": [
        "### Define the classes"
      ]
    },
    {
      "cell_type": "code",
      "execution_count": 4,
      "metadata": {
        "id": "8EZZFyRHniJd"
      },
      "outputs": [],
      "source": [
        "classes = ('plane','car','bird','cat','deer', 'dog', 'frog', 'horse', 'ship', 'truck')"
      ]
    },
    {
      "cell_type": "markdown",
      "metadata": {
        "id": "SmHcJzCc45nj"
      },
      "source": [
        "### Data Visualization"
      ]
    },
    {
      "cell_type": "code",
      "execution_count": 5,
      "metadata": {
        "colab": {
          "base_uri": "https://localhost:8080/",
          "height": 211
        },
        "id": "LnZzHa6_g1db",
        "outputId": "76c64635-8fda-4edf-f5be-6be6ece4b189"
      },
      "outputs": [
        {
          "data": {
            "image/png": "[encoded data removed]",
            "text/plain": [
              "<Figure size 640x480 with 1 Axes>"
            ]
          },
          "metadata": {},
          "output_type": "display_data"
        },
        {
          "name": "stdout",
          "output_type": "stream",
          "text": [
            " frog truck plane  bird\n"
          ]
        }
      ],
      "source": [
        "import matplotlib.pyplot as plt\n",
        "import numpy as np\n",
        "\n",
        "def imshow(img):\n",
        "    img=img/2 +0.5\n",
        "    npimg = img.numpy()\n",
        "    plt.imshow(np.transpose(npimg, (1,2,0)))\n",
        "    plt.show()\n",
        "\n",
        "data_iter = iter(trainloader)\n",
        "images, labels = next(data_iter)\n",
        "\n",
        "imshow(torchvision.utils.make_grid(images))\n",
        "\n",
        "print(\" \".join(\"%5s\" % classes[labels[j]] for j in range(4)))"
      ]
    },
    {
      "cell_type": "markdown",
      "metadata": {
        "id": "r2c9ZuOw5eRA"
      },
      "source": [
        "### Initialize CNN\n"
      ]
    },
    {
      "cell_type": "code",
      "execution_count": 6,
      "metadata": {
        "colab": {
          "base_uri": "https://localhost:8080/"
        },
        "id": "2Yun2TIxhuA3",
        "outputId": "0c1275a8-f6ec-4feb-da3a-8adc2e1f2436"
      },
      "outputs": [
        {
          "name": "stdout",
          "output_type": "stream",
          "text": [
            "CIFARmodel(\n",
            "  (conv1): Conv2d(3, 32, kernel_size=(3, 3), stride=(1, 1), padding=(2, 2))\n",
            "  (pool1): MaxPool2d(kernel_size=2, stride=2, padding=0, dilation=1, ceil_mode=False)\n",
            "  (fft_conv): Conv2d(32, 64, kernel_size=(3, 3), stride=(1, 1), padding=(1, 1))\n",
            "  (conv2): Conv2d(64, 64, kernel_size=(5, 5), stride=(1, 1), padding=(2, 2))\n",
            "  (pool2): MaxPool2d(kernel_size=2, stride=2, padding=0, dilation=1, ceil_mode=False)\n",
            "  (fc1): Linear(in_features=4096, out_features=128, bias=True)\n",
            "  (fc2): Linear(in_features=128, out_features=64, bias=True)\n",
            "  (fc3): Linear(in_features=64, out_features=10, bias=True)\n",
            ")\n"
          ]
        }
      ],
      "source": [
        "class CIFARmodel(nn.Module):\n",
        "    def __init__(self):\n",
        "        super(CIFARmodel, self).__init__()\n",
        "\n",
        "        self.conv1 = nn.Conv2d(in_channels=3, out_channels=32, kernel_size=3, padding=2)\n",
        "        self.pool1 = nn.MaxPool2d(kernel_size=2, stride=2)\n",
        "\n",
        "        self.fft_conv = nn.Conv2d(in_channels=32, out_channels=64, kernel_size=3, padding=1)\n",
        "\n",
        "        self.conv2 = nn.Conv2d(64, 64, 5, padding=2)\n",
        "        self.pool2 = nn.MaxPool2d(kernel_size=2, stride=2)\n",
        "\n",
        "        self.fc1 = nn.Linear(64 * 8 * 8, 128)\n",
        "        self.fc2 = nn.Linear(128, 64)\n",
        "        self.fc3 = nn.Linear(64, 10)\n",
        "\n",
        "    def forward(self, x):\n",
        "        x = self.pool1(F.relu(self.conv1(x)))\n",
        "\n",
        "        x = F.relu(self.fft_convolution(x, self.fft_conv.weight, self.fft_conv.bias))\n",
        "\n",
        "        x = self.pool2(F.relu(self.conv2(x)))\n",
        "        x = x.view(x.size(0), -1)\n",
        "        x = F.relu(self.fc1(x))\n",
        "        x = F.relu(self.fc2(x))\n",
        "        x = self.fc3(x)\n",
        "        return F.log_softmax(x, dim=1)\n",
        "\n",
        "    def fft_convolution(self, x, weight, bias=None):\n",
        "        batch_size, in_channels, height, width = x.size()\n",
        "        out_channels, _, kernel_height, kernel_width = weight.size()\n",
        "\n",
        "        x_fft = torch.fft.rfftn(x, s=(height, width), dim=(-2, -1))\n",
        "        weight_fft = torch.fft.rfftn(weight, s=(height, width), dim=(-2, -1))\n",
        "\n",
        "        result_fft = x_fft.unsqueeze(1) * weight_fft.unsqueeze(0)\n",
        "\n",
        "        result_fft = result_fft.sum(dim=2)\n",
        "\n",
        "        result = torch.fft.irfftn(result_fft, s=(height, width), dim=(-2, -1))\n",
        "\n",
        "        result = result[..., :height, :width]\n",
        "\n",
        "        if bias is not None:\n",
        "            result += bias.view(1, -1, 1, 1)\n",
        "\n",
        "        return result\n",
        "\n",
        "model = CIFARmodel()\n",
        "print(model)"
      ]
    },
    {
      "cell_type": "code",
      "execution_count": 7,
      "metadata": {
        "colab": {
          "base_uri": "https://localhost:8080/"
        },
        "id": "qoCPNEO-qb2M",
        "outputId": "c0690478-79f2-4c83-c1a3-ed9557589787"
      },
      "outputs": [
        {
          "name": "stdout",
          "output_type": "stream",
          "text": [
            "torch.Size([32, 3, 3, 3])\n",
            "torch.Size([32])\n",
            "torch.Size([64, 32, 3, 3])\n",
            "torch.Size([64])\n",
            "torch.Size([64, 64, 5, 5])\n",
            "torch.Size([64])\n",
            "torch.Size([128, 4096])\n",
            "torch.Size([128])\n",
            "torch.Size([64, 128])\n",
            "torch.Size([64])\n",
            "torch.Size([10, 64])\n",
            "torch.Size([10])\n"
          ]
        }
      ],
      "source": [
        "for p in model.parameters():\n",
        "    print(p.size())"
      ]
    },
    {
      "cell_type": "markdown",
      "metadata": {
        "id": "arH6H71qdPVZ"
      },
      "source": [
        "### Initialize Loss and Optimizer"
      ]
    },
    {
      "cell_type": "code",
      "execution_count": 8,
      "metadata": {
        "id": "AD7xkdIpq8Ks"
      },
      "outputs": [],
      "source": [
        "criterion = nn.CrossEntropyLoss()\n",
        "optimizer = optim.SGD(model.parameters(), lr = 0.001, momentum=0.9)"
      ]
    },
    {
      "cell_type": "code",
      "execution_count": 9,
      "metadata": {
        "colab": {
          "base_uri": "https://localhost:8080/"
        },
        "id": "RUUXMdtlrBZ3",
        "outputId": "fad5c745-d0e8-43c2-9aa8-808267b5ff70"
      },
      "outputs": [
        {
          "name": "stdout",
          "output_type": "stream",
          "text": [
            "tensor([[[[-0.6471, -0.5686, -0.6235,  ...,  0.5451,  0.5137,  0.5137],\n",
            "          [-0.6471, -0.5843, -0.6784,  ...,  0.3490,  0.3333,  0.2863],\n",
            "          [-0.6471, -0.5922, -0.7725,  ...,  0.1451,  0.1373,  0.1059],\n",
            "          ...,\n",
            "          [-0.2627, -0.2078, -0.1451,  ..., -0.0196, -0.0275, -0.0667],\n",
            "          [-0.2706, -0.2314, -0.3333,  ..., -0.0667, -0.1451, -0.0275],\n",
            "          [-0.4275, -0.4039, -0.3569,  ..., -0.1451, -0.0902,  0.0118]],\n",
            "\n",
            "         [[-0.5686, -0.5137, -0.5843,  ...,  0.5765,  0.5451,  0.5451],\n",
            "          [-0.5686, -0.5216, -0.6392,  ...,  0.3804,  0.3647,  0.3176],\n",
            "          [-0.5686, -0.5294, -0.7333,  ...,  0.1765,  0.1686,  0.1373],\n",
            "          ...,\n",
            "          [-0.1922, -0.1373, -0.0745,  ...,  0.0431,  0.0353, -0.0039],\n",
            "          [-0.2000, -0.1608, -0.2627,  ..., -0.0039, -0.0824,  0.0353],\n",
            "          [-0.3569, -0.3333, -0.2863,  ..., -0.0824, -0.0275,  0.0745]],\n",
            "\n",
            "         [[-0.5059, -0.4667, -0.5529,  ...,  0.6471,  0.6235,  0.6157],\n",
            "          [-0.5059, -0.4745, -0.6078,  ...,  0.4510,  0.4353,  0.3882],\n",
            "          [-0.5059, -0.4824, -0.7020,  ...,  0.2471,  0.2392,  0.2078],\n",
            "          ...,\n",
            "          [-0.1529, -0.0980, -0.0353,  ...,  0.1294,  0.1216,  0.0824],\n",
            "          [-0.1608, -0.1216, -0.2235,  ...,  0.0824,  0.0039,  0.1216],\n",
            "          [-0.3176, -0.2941, -0.2471,  ...,  0.0039,  0.0588,  0.1608]]],\n",
            "\n",
            "\n",
            "        [[[-0.7804, -0.7412, -0.6078,  ..., -0.1765, -0.3647, -0.7412],\n",
            "          [-0.8196, -0.7333, -0.6078,  ..., -0.1529, -0.3412, -0.6941],\n",
            "          [-0.9059, -0.7961, -0.7020,  ..., -0.2392, -0.3569, -0.6549],\n",
            "          ...,\n",
            "          [-0.1843, -0.1922, -0.2392,  ..., -0.0510, -0.1059, -0.1765],\n",
            "          [-0.0118, -0.0510, -0.0824,  ..., -0.0431, -0.0667, -0.1765],\n",
            "          [-0.0039,  0.0824, -0.0431,  ...,  0.0039,  0.0902, -0.1922]],\n",
            "\n",
            "         [[-0.8902, -0.8353, -0.6627,  ..., -0.1216, -0.3490, -0.7647],\n",
            "          [-0.8980, -0.8196, -0.6784,  ..., -0.1216, -0.3490, -0.7333],\n",
            "          [-0.9451, -0.8667, -0.7804,  ..., -0.2392, -0.3882, -0.7020],\n",
            "          ...,\n",
            "          [-0.2941, -0.2706, -0.3098,  ..., -0.0824, -0.1137, -0.1843],\n",
            "          [-0.0902, -0.1294, -0.1843,  ..., -0.0902, -0.0980, -0.1922],\n",
            "          [-0.0667, -0.0118, -0.1765,  ..., -0.0588,  0.0588, -0.2157]],\n",
            "\n",
            "         [[-0.9608, -0.9216, -0.7412,  ..., -0.1451, -0.3804, -0.7961],\n",
            "          [-0.9608, -0.8980, -0.7490,  ..., -0.1686, -0.3882, -0.7647],\n",
            "          [-0.9843, -0.9373, -0.8431,  ..., -0.2863, -0.4431, -0.7490],\n",
            "          ...,\n",
            "          [-0.3255, -0.2941, -0.3569,  ..., -0.1373, -0.1294, -0.1686],\n",
            "          [-0.1608, -0.2000, -0.2706,  ..., -0.1216, -0.1137, -0.1922],\n",
            "          [-0.1608, -0.1216, -0.3020,  ..., -0.0667,  0.0431, -0.2157]]],\n",
            "\n",
            "\n",
            "        [[[-0.1059, -0.1059, -0.0588,  ...,  0.0039,  0.0980,  0.1843],\n",
            "          [-0.1451, -0.1373, -0.0980,  ..., -0.0431, -0.0353,  0.0118],\n",
            "          [-0.0667, -0.0510,  0.0118,  ..., -0.0196, -0.0353, -0.0510],\n",
            "          ...,\n",
            "          [-0.2157,  0.0196,  0.0588,  ...,  0.3647,  0.2314,  0.0902],\n",
            "          [-0.2549, -0.1922, -0.0745,  ...,  0.3412,  0.4118,  0.2471],\n",
            "          [-0.4588, -0.3098, -0.0745,  ..., -0.0588,  0.0824,  0.2706]],\n",
            "\n",
            "         [[-0.1922, -0.1922, -0.1529,  ..., -0.0824, -0.0039,  0.0588],\n",
            "          [-0.1922, -0.1922, -0.1529,  ..., -0.0980, -0.1137, -0.0824],\n",
            "          [-0.0902, -0.0824, -0.0196,  ..., -0.0510, -0.0667, -0.0824],\n",
            "          ...,\n",
            "          [-0.3176, -0.0745, -0.0353,  ...,  0.2549,  0.1373,  0.0118],\n",
            "          [-0.3490, -0.2784, -0.1765,  ...,  0.2078,  0.2706,  0.1216],\n",
            "          [-0.5059, -0.3647, -0.1529,  ..., -0.1765, -0.0510,  0.1451]],\n",
            "\n",
            "         [[-0.2941, -0.3020, -0.2627,  ..., -0.2157, -0.1529, -0.1137],\n",
            "          [-0.2784, -0.2706, -0.2235,  ..., -0.2157, -0.2392, -0.2235],\n",
            "          [-0.1843, -0.1608, -0.0902,  ..., -0.1373, -0.1608, -0.1686],\n",
            "          ...,\n",
            "          [-0.4510, -0.2157, -0.1922,  ...,  0.1059, -0.0039, -0.1137],\n",
            "          [-0.4824, -0.4196, -0.3255,  ...,  0.0667,  0.1294, -0.0275],\n",
            "          [-0.5922, -0.4588, -0.2784,  ..., -0.3020, -0.1765, -0.0118]]],\n",
            "\n",
            "\n",
            "        [[[-0.0745, -0.0902,  0.0039,  ..., -0.0824, -0.0902, -0.0824],\n",
            "          [-0.0824, -0.0667, -0.0824,  ..., -0.0824, -0.0824, -0.0824],\n",
            "          [-0.0745, -0.0667, -0.0667,  ..., -0.0824, -0.0824, -0.0824],\n",
            "          ...,\n",
            "          [-0.0431, -0.0431, -0.0510,  ..., -0.0588, -0.0588, -0.0588],\n",
            "          [-0.0431, -0.0431, -0.0510,  ..., -0.0588, -0.0588, -0.0588],\n",
            "          [-0.0431, -0.0431, -0.0431,  ..., -0.0588, -0.0588, -0.0588]],\n",
            "\n",
            "         [[ 0.3098,  0.3255,  0.3647,  ...,  0.3020,  0.3020,  0.3020],\n",
            "          [ 0.3098,  0.3098,  0.2941,  ...,  0.3020,  0.3020,  0.3020],\n",
            "          [ 0.3098,  0.3176,  0.3176,  ...,  0.3176,  0.3176,  0.3098],\n",
            "          ...,\n",
            "          [ 0.3412,  0.3412,  0.3333,  ...,  0.3255,  0.3255,  0.3255],\n",
            "          [ 0.3412,  0.3412,  0.3333,  ...,  0.3255,  0.3255,  0.3255],\n",
            "          [ 0.3412,  0.3412,  0.3333,  ...,  0.3255,  0.3255,  0.3255]],\n",
            "\n",
            "         [[ 0.8353,  0.8353,  0.8667,  ...,  0.8275,  0.8275,  0.8275],\n",
            "          [ 0.8275,  0.8353,  0.8275,  ...,  0.8275,  0.8275,  0.8275],\n",
            "          [ 0.8353,  0.8431,  0.8431,  ...,  0.8353,  0.8353,  0.8353],\n",
            "          ...,\n",
            "          [ 0.8588,  0.8588,  0.8510,  ...,  0.8510,  0.8510,  0.8510],\n",
            "          [ 0.8588,  0.8588,  0.8510,  ...,  0.8510,  0.8510,  0.8510],\n",
            "          [ 0.8588,  0.8588,  0.8510,  ...,  0.8510,  0.8510,  0.8510]]]])\n"
          ]
        }
      ],
      "source": [
        "dataiter = iter(trainloader)\n",
        "images, label = next(dataiter)\n",
        "print(images)"
      ]
    },
    {
      "cell_type": "markdown",
      "metadata": {
        "id": "DmLcd6u4dbcw"
      },
      "source": [
        "### Train Dataset"
      ]
    },
    {
      "cell_type": "code",
      "execution_count": 10,
      "metadata": {
        "colab": {
          "base_uri": "https://localhost:8080/",
          "height": 1000
        },
        "id": "2ICO02VmrEKt",
        "outputId": "7d4d9e13-402a-4613-a35a-c2dd33663b2e"
      },
      "outputs": [
        {
          "name": "stdout",
          "output_type": "stream",
          "text": [
            "[1,     1] loss: 0.002\n",
            "[1,  1001] loss: 2.295\n",
            "[1,  2001] loss: 2.084\n",
            "[1,  3001] loss: 1.886\n",
            "[1,  4001] loss: 1.727\n",
            "[1,  5001] loss: 1.624\n",
            "[1,  6001] loss: 1.558\n",
            "[1,  7001] loss: 1.491\n",
            "[1,  8001] loss: 1.408\n",
            "[1,  9001] loss: 1.403\n",
            "[1, 10001] loss: 1.322\n",
            "[1, 11001] loss: 1.293\n",
            "[1, 12001] loss: 1.236\n",
            "[2,     1] loss: 0.001\n",
            "[2,  1001] loss: 1.193\n",
            "[2,  2001] loss: 1.191\n",
            "[2,  3001] loss: 1.138\n",
            "[2,  4001] loss: 1.120\n",
            "[2,  5001] loss: 1.070\n",
            "[2,  6001] loss: 1.074\n",
            "[2,  7001] loss: 1.046\n",
            "[2,  8001] loss: 1.038\n",
            "[2,  9001] loss: 1.020\n",
            "[2, 10001] loss: 0.985\n",
            "[2, 11001] loss: 0.999\n",
            "[2, 12001] loss: 0.989\n",
            "[3,     1] loss: 0.000\n",
            "[3,  1001] loss: 0.878\n",
            "[3,  2001] loss: 0.904\n",
            "[3,  3001] loss: 0.844\n",
            "[3,  4001] loss: 0.859\n",
            "[3,  5001] loss: 0.845\n",
            "[3,  6001] loss: 0.839\n",
            "[3,  7001] loss: 0.816\n",
            "[3,  8001] loss: 0.842\n",
            "[3,  9001] loss: 0.834\n",
            "[3, 10001] loss: 0.822\n",
            "[3, 11001] loss: 0.818\n",
            "[3, 12001] loss: 0.820\n",
            "[4,     1] loss: 0.001\n",
            "[4,  1001] loss: 0.677\n",
            "[4,  2001] loss: 0.690\n",
            "[4,  3001] loss: 0.694\n",
            "[4,  4001] loss: 0.712\n",
            "[4,  5001] loss: 0.705\n",
            "[4,  6001] loss: 0.713\n",
            "[4,  7001] loss: 0.677\n",
            "[4,  8001] loss: 0.670\n",
            "[4,  9001] loss: 0.703\n",
            "[4, 10001] loss: 0.683\n",
            "[4, 11001] loss: 0.685\n",
            "[4, 12001] loss: 0.697\n",
            "[5,     1] loss: 0.001\n",
            "[5,  1001] loss: 0.511\n",
            "[5,  2001] loss: 0.538\n",
            "[5,  3001] loss: 0.549\n",
            "[5,  4001] loss: 0.544\n",
            "[5,  5001] loss: 0.591\n",
            "[5,  6001] loss: 0.575\n",
            "[5,  7001] loss: 0.574\n",
            "[5,  8001] loss: 0.556\n",
            "[5,  9001] loss: 0.593\n",
            "[5, 10001] loss: 0.565\n",
            "[5, 11001] loss: 0.566\n",
            "[5, 12001] loss: 0.608\n",
            "[6,     1] loss: 0.001\n",
            "[6,  1001] loss: 0.385\n",
            "[6,  2001] loss: 0.458\n",
            "[6,  3001] loss: 0.422\n",
            "[6,  4001] loss: 0.442\n",
            "[6,  5001] loss: 0.455\n",
            "[6,  6001] loss: 0.454\n",
            "[6,  7001] loss: 0.475\n",
            "[6,  8001] loss: 0.485\n",
            "[6,  9001] loss: 0.472\n",
            "[6, 10001] loss: 0.493\n",
            "[6, 11001] loss: 0.485\n",
            "[6, 12001] loss: 0.500\n",
            "[7,     1] loss: 0.000\n",
            "[7,  1001] loss: 0.308\n",
            "[7,  2001] loss: 0.312\n",
            "[7,  3001] loss: 0.324\n",
            "[7,  4001] loss: 0.359\n",
            "[7,  5001] loss: 0.367\n",
            "[7,  6001] loss: 0.363\n",
            "[7,  7001] loss: 0.384\n",
            "[7,  8001] loss: 0.395\n",
            "[7,  9001] loss: 0.385\n",
            "[7, 10001] loss: 0.381\n",
            "[7, 11001] loss: 0.429\n",
            "[7, 12001] loss: 0.396\n",
            "[8,     1] loss: 0.000\n",
            "[8,  1001] loss: 0.224\n",
            "[8,  2001] loss: 0.248\n",
            "[8,  3001] loss: 0.282\n",
            "[8,  4001] loss: 0.296\n",
            "[8,  5001] loss: 0.285\n",
            "[8,  6001] loss: 0.321\n",
            "[8,  7001] loss: 0.291\n",
            "[8,  8001] loss: 0.295\n",
            "[8,  9001] loss: 0.325\n",
            "[8, 10001] loss: 0.318\n",
            "[8, 11001] loss: 0.356\n",
            "[8, 12001] loss: 0.350\n",
            "[9,     1] loss: 0.000\n",
            "[9,  1001] loss: 0.207\n",
            "[9,  2001] loss: 0.181\n",
            "[9,  3001] loss: 0.207\n",
            "[9,  4001] loss: 0.222\n",
            "[9,  5001] loss: 0.226\n",
            "[9,  6001] loss: 0.231\n",
            "[9,  7001] loss: 0.260\n",
            "[9,  8001] loss: 0.256\n",
            "[9,  9001] loss: 0.294\n",
            "[9, 10001] loss: 0.279\n",
            "[9, 11001] loss: 0.315\n",
            "[9, 12001] loss: 0.278\n",
            "[10,     1] loss: 0.000\n",
            "[10,  1001] loss: 0.163\n",
            "[10,  2001] loss: 0.158\n",
            "[10,  3001] loss: 0.199\n",
            "[10,  4001] loss: 0.199\n",
            "[10,  5001] loss: 0.187\n",
            "[10,  6001] loss: 0.200\n",
            "[10,  7001] loss: 0.209\n",
            "[10,  8001] loss: 0.215\n",
            "[10,  9001] loss: 0.232\n",
            "[10, 10001] loss: 0.246\n",
            "[10, 11001] loss: 0.235\n",
            "[10, 12001] loss: 0.229\n",
            "Training finished\n"
          ]
        },
        {
          "data": {
            "image/png": "[encoded data removed]",
            "text/plain": [
              "<Figure size 640x480 with 1 Axes>"
            ]
          },
          "metadata": {},
          "output_type": "display_data"
        },
        {
          "data": {
            "image/png": "[encoded data removed]",
            "text/plain": [
              "<Figure size 640x480 with 1 Axes>"
            ]
          },
          "metadata": {},
          "output_type": "display_data"
        }
      ],
      "source": [
        "total_epochs = 10\n",
        "loss_values = []\n",
        "accuracy_values = []\n",
        "\n",
        "for epoch in range(total_epochs):\n",
        "    running_loss = 0.0\n",
        "    correct = 0\n",
        "    total = 0\n",
        "\n",
        "    for i, data in enumerate(trainloader):\n",
        "        inputs, targets = data\n",
        "\n",
        "        optimizer.zero_grad()\n",
        "\n",
        "        outputs = model(inputs)\n",
        "        loss = criterion(outputs, targets)\n",
        "        loss.backward()\n",
        "        optimizer.step()\n",
        "\n",
        "        running_loss += loss.item()\n",
        "\n",
        "        _, predicted = torch.max(outputs, 1)\n",
        "        total += targets.size(0)\n",
        "        correct += (predicted == targets).sum().item()\n",
        "\n",
        "        if i % 1000 == 0:\n",
        "            print('[%d, %5d] loss: %.3f' % (epoch + 1, i + 1, running_loss / 1000))\n",
        "            running_loss = 0.0\n",
        "\n",
        "    epoch_loss = running_loss / len(trainloader)\n",
        "    epoch_accuracy = correct / total\n",
        "\n",
        "    loss_values.append(epoch_loss)\n",
        "    accuracy_values.append(epoch_accuracy)\n",
        "\n",
        "print(\"Training finished\")\n",
        "\n",
        "# Plotting loss\n",
        "plt.plot(loss_values, label='Training Loss')\n",
        "plt.xlabel('Epoch')\n",
        "plt.ylabel('Loss')\n",
        "plt.title('Training Loss over Epochs')\n",
        "plt.legend()\n",
        "plt.show()\n",
        "\n",
        "# Plotting accuracy\n",
        "plt.plot(accuracy_values, label='Training Accuracy')\n",
        "plt.xlabel('Epoch')\n",
        "plt.ylabel('Accuracy')\n",
        "plt.title('Training Accuracy over Epochs')\n",
        "plt.legend()\n",
        "plt.show()"
      ]
    },
    {
      "cell_type": "code",
      "execution_count": 11,
      "metadata": {
        "id": "ar3gvmyarYj3"
      },
      "outputs": [],
      "source": [
        "PATH = './cifar_model'\n",
        "torch.save(model.state_dict(), PATH)"
      ]
    },
    {
      "cell_type": "markdown",
      "metadata": {
        "id": "lTJhxu33diRX"
      },
      "source": [
        "### Test Dataset"
      ]
    },
    {
      "cell_type": "code",
      "execution_count": 12,
      "metadata": {
        "colab": {
          "base_uri": "https://localhost:8080/",
          "height": 211
        },
        "id": "sXR6ci2Stmgc",
        "outputId": "f8fd3833-6bfe-4722-f1ef-3ffaebbed079"
      },
      "outputs": [
        {
          "data": {
            "image/png": "[encoded data removed]",
            "text/plain": [
              "<Figure size 640x480 with 1 Axes>"
            ]
          },
          "metadata": {},
          "output_type": "display_data"
        },
        {
          "name": "stdout",
          "output_type": "stream",
          "text": [
            "Original Label:  horse  ship  ship   car\n"
          ]
        }
      ],
      "source": [
        "data_iter = iter(test_loader)\n",
        "images, labels = next(data_iter)\n",
        "\n",
        "imshow(torchvision.utils.make_grid(images))\n",
        "print(\"Original Label: \",' '.join('%5s' %classes[labels[j]] for j in range(4)))"
      ]
    },
    {
      "cell_type": "code",
      "execution_count": 13,
      "metadata": {
        "colab": {
          "base_uri": "https://localhost:8080/"
        },
        "id": "ZSZSrfPTtpdA",
        "outputId": "ff3f40db-2eec-43a5-8b39-6c6d57382528"
      },
      "outputs": [
        {
          "data": {
            "text/plain": [
              "<All keys matched successfully>"
            ]
          },
          "execution_count": 13,
          "metadata": {},
          "output_type": "execute_result"
        }
      ],
      "source": [
        "model = CIFARmodel()\n",
        "model.load_state_dict(torch.load(PATH))"
      ]
    },
    {
      "cell_type": "code",
      "execution_count": 14,
      "metadata": {
        "id": "oYdOgAObtwt0"
      },
      "outputs": [],
      "source": [
        "output = model(images)"
      ]
    },
    {
      "cell_type": "code",
      "execution_count": 15,
      "metadata": {
        "colab": {
          "base_uri": "https://localhost:8080/"
        },
        "id": "3aMN5v3WuSbN",
        "outputId": "6231bcbc-4b96-49b2-b711-2df4006867de"
      },
      "outputs": [
        {
          "name": "stdout",
          "output_type": "stream",
          "text": [
            "predicted: horse  ship  ship   car\n"
          ]
        }
      ],
      "source": [
        "_, predicted = torch.max(output,1)\n",
        "print('predicted:',' '.join(\"%5s\" %classes[labels[j]]for j in range(4)))"
      ]
    },
    {
      "cell_type": "markdown",
      "metadata": {
        "id": "BzfqhTXodrN3"
      },
      "source": [
        "### Accuracy"
      ]
    },
    {
      "cell_type": "code",
      "execution_count": 16,
      "metadata": {
        "colab": {
          "base_uri": "https://localhost:8080/"
        },
        "id": "gHATIesquWrq",
        "outputId": "b69345ef-c32b-497a-9b71-dc1e10046890"
      },
      "outputs": [
        {
          "name": "stdout",
          "output_type": "stream",
          "text": [
            "Accuracy of the model on test set: 72.68\n"
          ]
        }
      ],
      "source": [
        "correct = 0\n",
        "total = 0\n",
        "with torch.no_grad():\n",
        "    for data in test_loader:\n",
        "        images, labels = data\n",
        "        outputs = model(images)\n",
        "        _, predicted = torch.max(outputs.data, 1)\n",
        "        total+=labels.size(0)\n",
        "        correct+=(predicted==labels).sum().item()\n",
        "\n",
        "print('Accuracy of the model on test set:', (correct*100)/total)"
      ]
    },
    {
      "cell_type": "markdown",
      "metadata": {
        "id": "rmJxGS0kduj7"
      },
      "source": [
        "### Class Accuracies"
      ]
    },
    {
      "cell_type": "code",
      "execution_count": 17,
      "metadata": {
        "colab": {
          "base_uri": "https://localhost:8080/"
        },
        "id": "UWNb9GuZ0_LE",
        "outputId": "767ca606-c44c-4a28-8896-e39a681140b7"
      },
      "outputs": [
        {
          "name": "stdout",
          "output_type": "stream",
          "text": [
            "Accuracy of plane : 70 %\n",
            "Accuracy of   car : 82 %\n",
            "Accuracy of  bird : 64 %\n",
            "Accuracy of   cat : 53 %\n",
            "Accuracy of  deer : 70 %\n",
            "Accuracy of   dog : 60 %\n",
            "Accuracy of  frog : 78 %\n",
            "Accuracy of horse : 75 %\n",
            "Accuracy of  ship : 87 %\n",
            "Accuracy of truck : 83 %\n"
          ]
        }
      ],
      "source": [
        "class_correct = [0] * 10\n",
        "class_total = [0] * 10\n",
        "\n",
        "with torch.no_grad():\n",
        "    for data in test_loader:\n",
        "        images, labels = data\n",
        "        outputs = model(images)\n",
        "        _, predicted = torch.max(outputs, 1)\n",
        "        c = (predicted == labels).squeeze()\n",
        "        for i in range(len(labels)):\n",
        "            label = labels[i]\n",
        "            class_correct[label] += c[i].item()\n",
        "            class_total[label] += 1\n",
        "\n",
        "for i in range(10):\n",
        "    if class_total[i] > 0:\n",
        "        accuracy = 100 * class_correct[i] / class_total[i]\n",
        "        print('Accuracy of %5s : %2d %%' % (classes[i], accuracy))\n",
        "    else:\n",
        "        print('Accuracy of %5s : N/A (no samples in test set)' % classes[i])\n"
      ]
    }
  ],
  "metadata": {
    "accelerator": "GPU",
    "colab": {
      "gpuType": "T4",
      "provenance": []
    },
    "kernelspec": {
      "display_name": "Python 3",
      "name": "python3"
    },
    "language_info": {
      "name": "python"
    }
  },
  "nbformat": 4,
  "nbformat_minor": 0
}
